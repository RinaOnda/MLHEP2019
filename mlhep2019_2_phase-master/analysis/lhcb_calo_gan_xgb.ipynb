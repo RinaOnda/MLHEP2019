{
 "cells": [
  {
   "cell_type": "code",
   "execution_count": 1,
   "metadata": {},
   "outputs": [],
   "source": [
    "# ! wget https://raw.githubusercontent.com/SchattenGenie/mlhep2019_2_phase/master/analysis/calogan_metrics.py\n",
    "# ! wget https://raw.githubusercontent.com/SchattenGenie/mlhep2019_2_phase/master/analysis/prd_score.py\n",
    "# ! whet https://raw.githubusercontent.com/SchattenGenie/mlhep2019_2_phase/master/analysis/score.py\n",
    "# ! wget https://github.com/SchattenGenie/mlhep2019_2_phase/raw/master/analysis/embedder.tp"
   ]
  },
  {
   "cell_type": "code",
   "execution_count": 1,
   "metadata": {},
   "outputs": [],
   "source": [
    "import torch\n",
    "import torch.nn as nn\n",
    "import torch.nn.functional as F\n",
    "import torch.optim as optim\n",
    "import torch.utils.data as utils\n",
    "import numpy as np\n",
    "import matplotlib.pyplot as plt\n",
    "from tqdm import tqdm, tqdm_notebook\n",
    "import seaborn as sns\n",
    "from IPython.display import clear_output\n",
    "import xgboost as xgb\n",
    "#import xgbfir\n",
    "sns.set()\n",
    "\n",
    "def one_hot(a, num_classes):\n",
    "    return np.squeeze(np.eye(num_classes)[a.reshape(-1)])\n",
    "\n",
    "device = 'cuda' if torch.cuda.is_available() else 'cpu'"
   ]
  },
  {
   "cell_type": "code",
   "execution_count": 2,
   "metadata": {},
   "outputs": [
    {
     "data": {
      "text/plain": [
       "'cpu'"
      ]
     },
     "execution_count": 2,
     "metadata": {},
     "output_type": "execute_result"
    }
   ],
   "source": [
    "device"
   ]
  },
  {
   "cell_type": "markdown",
   "metadata": {},
   "source": [
    "## Data pathes"
   ]
  },
  {
   "cell_type": "code",
   "execution_count": 3,
   "metadata": {},
   "outputs": [],
   "source": [
    "# train_data_path = '/gdrive/My Drive/mlhep2019_gan/data_train.npz'\n",
    "# val_data_path = '/gdrive/My Drive/mlhep2019_gan/data_val.npz'\n",
    "# test_data_path = '/gdrive/My Drive/mlhep2019_gan/data_test.npz'\n",
    "\n",
    "train_data_path = '../public_data/data_train.npz'\n",
    "val_data_path = '../public_data/data_val.npz'\n",
    "test_data_path = '../public_data/data_test.npz'"
   ]
  },
  {
   "cell_type": "markdown",
   "metadata": {},
   "source": [
    "# Loading data\n",
    "\n",
    "Data is stored in `.npz`-format which is a special filetype for persisting multiple NumPy arrays on disk. \n",
    "\n",
    "More info: https://docs.scipy.org/doc/numpy/reference/generated/numpy.lib.format.html#module-numpy.lib.format.\n",
    "\n",
    "File `dat_train.npz` contains four arrays: \n",
    "\n",
    "  * `EnergyDeposit` - images of calorimeters responses\n",
    "  * `ParticleMomentum` - $p_x, p_y, p_z$ of initial partice\n",
    "  * `ParticlePoint` - $x, y$ of initial particle\n",
    "  * `ParticlePDG` - particle type(either $e^-$ or $\\gamma$)"
   ]
  },
  {
   "cell_type": "code",
   "execution_count": 4,
   "metadata": {},
   "outputs": [
    {
     "name": "stdout",
     "output_type": "stream",
     "text": [
      "['EnergyDeposit', 'ParticlePoint', 'ParticleMomentum', 'ParticlePDG']\n"
     ]
    }
   ],
   "source": [
    "N = 1000\n",
    "\n",
    "data_train = np.load(train_data_path, allow_pickle=True)\n",
    "print(list(data_train.keys()))\n",
    "\n",
    "# [data_size, 900]\n",
    "EnergyDeposit = data_train['EnergyDeposit'][:N]\n",
    "# reshaping it as [data_size, channels, img_size_x, img_size_y]\n",
    "# channels are needed for pytorch conv2d-layers\n",
    "EnergyDeposit = EnergyDeposit.reshape(-1, 1, 30, 30)\n",
    "\n",
    "# [data_size, 3]\n",
    "ParticleMomentum = data_train['ParticleMomentum'][:N]\n",
    "\n",
    "# [data_size, 2]\n",
    "ParticlePoint = data_train['ParticlePoint'][:, :2][:N]\n",
    "\n",
    "# [data_size, 1]\n",
    "ParticlePDG = data_train['ParticlePDG'][:N]"
   ]
  },
  {
   "cell_type": "markdown",
   "metadata": {},
   "source": [
    "## Load it to pytorch `DataLoader`"
   ]
  },
  {
   "cell_type": "code",
   "execution_count": 5,
   "metadata": {},
   "outputs": [],
   "source": [
    "EnergyDeposit = torch.tensor(EnergyDeposit).float()\n",
    "ParticleMomentum = torch.tensor(ParticleMomentum).float()\n",
    "ParticlePoint = torch.tensor(ParticlePoint).float()\n",
    "\n",
    "BATCH_SIZE = 128\n",
    "calo_dataset = utils.TensorDataset(EnergyDeposit, ParticleMomentum, ParticlePoint)\n",
    "calo_dataloader = torch.utils.data.DataLoader(calo_dataset, batch_size=BATCH_SIZE, pin_memory=True, shuffle=True)"
   ]
  },
  {
   "cell_type": "code",
   "execution_count": 6,
   "metadata": {},
   "outputs": [],
   "source": [
    "for EnergyDeposit_b, ParticleMomentum_b, ParticlePoint_b in calo_dataloader:\n",
    "    break"
   ]
  },
  {
   "cell_type": "markdown",
   "metadata": {},
   "source": [
    "## Training GAN\n",
    "###### ...is not a simple matter\n",
    "\n",
    "It depends on architecture, loss, instance noise, augmentation and even luck(recommend to take a look https://arxiv.org/pdf/1801.04406.pdf)\n",
    "\n",
    "\n",
    "In this notebook I have prepared some basic parts that you could use for your experiments."
   ]
  },
  {
   "cell_type": "markdown",
   "metadata": {},
   "source": [
    "### Three types of losses for GANs\n",
    "\n",
    "https://medium.com/@jonathan_hui/gan-what-is-wrong-with-the-gan-cost-function-6f594162ce01\n",
    "\n",
    "There were proposed numerous loss functions to train GANs. In this notebook we have implemented three the most popular choices(but feel free to try other variants!):\n",
    "\n",
    "### `KL`:\n",
    "\n",
    "\n",
    "$$\\mathcal{L}_g = \\log(1 - \\mathrm{discriminator}(\\mathrm{gen}))$$\n",
    "\n",
    "$$\\mathcal{L}_d = - \\log(\\mathrm{discriminator}(\\mathrm{gen})) - \\log(1 - \\mathrm{discriminator}(\\mathrm{real}))$$\n",
    "\n",
    "\n",
    "### `REVERSED_KL`\n",
    "\n",
    "$$\\mathcal{L}_g = - \\log(\\mathrm{discriminator}(\\mathrm{gen}))$$\n",
    "\n",
    "$$\\mathcal{L}_d = - \\log(\\mathrm{discriminator}(\\mathrm{gen})) - \\log(1 - \\mathrm{discriminator}(\\mathrm{real}))$$\n",
    "\n",
    "\n",
    "### `WASSERSTEIN`\n",
    "\n",
    "$$\\mathcal{L}_g = - \\mathrm{discriminator}(\\mathrm{gen})$$\n",
    "\n",
    "$$\\mathcal{L}_d = \\mathrm{discriminator}(\\mathrm{gen}) - \\mathrm{discriminator}(\\mathrm{real})$$"
   ]
  },
  {
   "cell_type": "code",
   "execution_count": 7,
   "metadata": {},
   "outputs": [],
   "source": [
    "TASKS = ['KL', 'REVERSED_KL', 'WASSERSTEIN']\n",
    "\n",
    "TASK = 'WASSERSTEIN'"
   ]
  },
  {
   "cell_type": "markdown",
   "metadata": {},
   "source": [
    "### Additional things for Wasserstein GAN\n",
    "\n",
    "To make `Wasserstein`-GAN works we suggest three options:"
   ]
  },
  {
   "cell_type": "code",
   "execution_count": 8,
   "metadata": {},
   "outputs": [],
   "source": [
    "LIPSITZ_WEIGHTS = False\n",
    "clamp_lower, clamp_upper = -0.01, 0.01\n",
    "\n",
    "\n",
    "# https://arxiv.org/abs/1704.00028\n",
    "GRAD_PENALTY = True\n",
    "\n",
    "# https://arxiv.org/abs/1705.09367\n",
    "ZERO_CENTERED_GRAD_PENALTY = False\n",
    "\n",
    "XGB_PENALTY = True"
   ]
  },
  {
   "cell_type": "markdown",
   "metadata": {},
   "source": [
    "#### Small hack that can speed-up training and improve generalization"
   ]
  },
  {
   "cell_type": "code",
   "execution_count": 9,
   "metadata": {},
   "outputs": [],
   "source": [
    "# https://arxiv.org/abs/1610.04490\n",
    "INSTANCE_NOISE = True\n",
    "\n",
    "def add_instance_noise(data, std=0.01):\n",
    "    return data + torch.distributions.Normal(0, std).sample(data.shape).to(device)"
   ]
  },
  {
   "cell_type": "code",
   "execution_count": 10,
   "metadata": {},
   "outputs": [],
   "source": [
    "class GANLosses(object):\n",
    "    def __init__(self, task, device):\n",
    "        self.TASK = task\n",
    "        self.device = device\n",
    "    \n",
    "    def g_loss(self, discrim_output):\n",
    "        eps = 1e-10\n",
    "        if self.TASK == 'KL': \n",
    "            loss = torch.log(1 - discrim_output + eps).mean()    \n",
    "        elif self.TASK == 'REVERSED_KL':\n",
    "            loss = - torch.log(discrim_output + eps).mean()\n",
    "        elif self.TASK == 'WASSERSTEIN':\n",
    "            loss = - discrim_output.mean()\n",
    "        return loss\n",
    "\n",
    "    def d_loss(self, discrim_output_gen, discrim_output_real):\n",
    "        eps = 1e-10\n",
    "        if self.TASK in ['KL', 'REVERSED_KL']: \n",
    "            loss = - torch.log(discrim_output_real + eps).mean() - torch.log(1 - discrim_output_gen + eps).mean()\n",
    "        elif self.TASK == 'WASSERSTEIN':\n",
    "            loss = - (discrim_output_real.mean() - discrim_output_gen.mean())\n",
    "        return loss\n",
    "\n",
    "    def calc_gradient_penalty(self, discriminator, data_gen, inputs_batch, inp_data, lambda_reg = .1):\n",
    "        alpha = torch.rand(inp_data.shape[0], 1).to(self.device)\n",
    "        dims_to_add = len(inp_data.size()) - 2\n",
    "        for i in range(dims_to_add):\n",
    "            alpha = alpha.unsqueeze(-1)\n",
    "        # alpha = alpha.expand(inp_data.size())\n",
    "\n",
    "        interpolates = (alpha * inp_data + ((1 - alpha) * data_gen)).to(self.device)\n",
    "\n",
    "        interpolates.requires_grad = True\n",
    "\n",
    "        disc_interpolates = discriminator(interpolates, inputs_batch)\n",
    "\n",
    "        gradients = torch.autograd.grad(outputs=disc_interpolates, inputs=interpolates,\n",
    "                                        grad_outputs=torch.ones(disc_interpolates.size()).to(self.device),\n",
    "                                        create_graph=True, retain_graph=True, only_inputs=True)[0]\n",
    "\n",
    "        gradient_penalty = ((gradients.norm(2, dim=1) - 1) ** 2).mean() * lambda_reg\n",
    "        return gradient_penalty\n",
    "    \n",
    "    def calc_zero_centered_GP(self, discriminator, data_gen, inputs_batch, inp_data, gamma_reg = .1):\n",
    "        \n",
    "        local_input = inp_data.clone().detach().requires_grad_(True)\n",
    "        disc_interpolates = discriminator(local_input, inputs_batch)\n",
    "        gradients = torch.autograd.grad(outputs=disc_interpolates, inputs=local_input,\n",
    "                                        grad_outputs=torch.ones(disc_interpolates.size()).to(self.device),\n",
    "                                        create_graph=True, retain_graph=True, only_inputs=True)[0]\n",
    "        return gamma_reg / 2 * (gradients.norm(2, dim=1) ** 2).mean() \n",
    "    \n",
    "    def calc_xgb_penalty(self, xgbmodel, data_gen, inputs_batch, inp_data, lambda_reg = .1):\n",
    "        \n",
    "        pool = nn.AvgPool2d(3)\n",
    "        x_gen = pool(data_gen)\n",
    "        x_gen = x_gen.view(len(x_gen),-1)\n",
    "        x_gen = torch.cat([x_gen, inputs_batch], dim=1).detach().numpy()\n",
    "        x_input = pool(inp_data)\n",
    "        x_input = x_input.view(len(x_input),-1)\n",
    "        x_input = torch.cat([x_input, inputs_batch], dim=1).detach().numpy()\n",
    "        label_false = np.zeros(x_gen.shape[0])\n",
    "        label_true = label_false + 1\n",
    "        xgbmodel.fit(x_gen, label_false)\n",
    "        xgbmodel.fit(x_input, label_true)\n",
    "        proba_gen = xgbmodel.predict_proba(x_gen)[:,1]\n",
    "        proba_input = xgbmodel.predict_proba(x_input)[:,1]\n",
    "\n",
    "        xgb_penalty = ((proba_gen - proba_input) ** 2).mean() * lambda_reg\n",
    "        return xgb_penalty"
   ]
  },
  {
   "cell_type": "markdown",
   "metadata": {},
   "source": [
    "## Defining discriminator"
   ]
  },
  {
   "cell_type": "code",
   "execution_count": 11,
   "metadata": {},
   "outputs": [],
   "source": [
    "class ModelD(nn.Module):\n",
    "    def __init__(self):\n",
    "        super(ModelD, self).__init__()\n",
    "        self.conv1 = nn.Conv2d(1, 32, 3)\n",
    "        self.bn1 = nn.BatchNorm2d(32)\n",
    "        self.dropout = nn.Dropout(p=0.3)\n",
    "        self.conv2 = nn.Conv2d(32, 64, 3, stride=2)\n",
    "        self.bn2 = nn.BatchNorm2d(64)\n",
    "        self.conv3 = nn.Conv2d(64, 64, 3)\n",
    "        self.conv4 = nn.Conv2d(64, 32, 3)\n",
    "        \n",
    "        # size\n",
    "        self.fc1 = nn.Linear(2592 + 5, 512) \n",
    "        self.fc2 = nn.Linear(512, 128)\n",
    "        self.fc3 = nn.Linear(128, 64)\n",
    "        self.fc4 = nn.Linear(64, 1)\n",
    "        \n",
    "    def forward(self, EnergyDeposit, ParticleMomentum_ParticlePoint):\n",
    "        EnergyDeposit = self.dropout(F.leaky_relu(self.bn1(self.conv1(EnergyDeposit))))\n",
    "        EnergyDeposit = self.dropout(F.leaky_relu(self.bn2(self.conv2(EnergyDeposit))))\n",
    "        EnergyDeposit = F.leaky_relu(self.conv3(EnergyDeposit))\n",
    "        EnergyDeposit = F.leaky_relu(self.conv4(EnergyDeposit)) # 32, 9, 9\n",
    "        EnergyDeposit = EnergyDeposit.view(len(EnergyDeposit), -1)\n",
    "        \n",
    "        t = torch.cat([EnergyDeposit, ParticleMomentum_ParticlePoint], dim=1)\n",
    "        \n",
    "        t = F.leaky_relu(self.fc1(t))\n",
    "        t = F.leaky_relu(self.fc2(t))\n",
    "        t = F.leaky_relu(self.fc3(t))\n",
    "        if TASK == 'WASSERSTEIN':\n",
    "            return self.fc4(t)\n",
    "        else:\n",
    "            return torch.sigmoid(self.fc4(t))"
   ]
  },
  {
   "cell_type": "code",
   "execution_count": 12,
   "metadata": {},
   "outputs": [],
   "source": [
    "class MyModelD(nn.Module):\n",
    "    def __init__(self):\n",
    "        super(MyModelD, self).__init__()\n",
    "        self.conv1 = nn.Conv2d(1, 32, 3, padding=2)#1*30*30 --> 32*32*32 matrix\n",
    "        self.bn1 = nn.BatchNorm2d(32)\n",
    "        self.dropout = nn.Dropout(p=0.3)\n",
    "        self.conv2 = nn.Conv2d(32, 64, 2, stride=2)#--> 64 * 16 * 16\n",
    "        self.bn2 = nn.BatchNorm2d(64)\n",
    "        self.conv3 = nn.Conv2d(64, 128, 2, stride=2)#--> 128 * 8 * 8\n",
    "        self.bn3 = nn.BatchNorm2d(128)\n",
    "        self.conv4 = nn.Conv2d(128, 256, 2, stride=2)#--> 256 * 4 * 4\n",
    "        \n",
    "        # size\n",
    "        self.fc1 = nn.Linear(256*4*4 + 5, 512) \n",
    "        self.fc2 = nn.Linear(512, 128)\n",
    "        self.fc3 = nn.Linear(128, 64)\n",
    "        self.fc4 = nn.Linear(64, 1)\n",
    "        \n",
    "    def forward(self, EnergyDeposit, ParticleMomentum_ParticlePoint):\n",
    "        EnergyDeposit = self.dropout(F.leaky_relu(self.bn1(self.conv1(EnergyDeposit))))\n",
    "        EnergyDeposit = self.dropout(F.leaky_relu(self.bn2(self.conv2(EnergyDeposit))))\n",
    "        EnergyDeposit = self.dropout(F.leaky_relu(self.bn3(self.conv3(EnergyDeposit))))\n",
    "        EnergyDeposit = F.leaky_relu(self.conv4(EnergyDeposit))\n",
    "        EnergyDeposit = EnergyDeposit.view(len(EnergyDeposit), -1)\n",
    "        \n",
    "        t = torch.cat([EnergyDeposit, ParticleMomentum_ParticlePoint], dim=1)\n",
    "        \n",
    "        t = F.leaky_relu(self.fc1(t))\n",
    "        t = F.leaky_relu(self.fc2(t))\n",
    "        t = F.leaky_relu(self.fc3(t))\n",
    "        \n",
    "        if TASK == 'WASSERSTEIN':\n",
    "            return self.fc4(t)\n",
    "        else:\n",
    "            return torch.sigmoid(self.fc4(t))"
   ]
  },
  {
   "cell_type": "markdown",
   "metadata": {},
   "source": [
    "## Defining XGBoost"
   ]
  },
  {
   "cell_type": "code",
   "execution_count": 13,
   "metadata": {},
   "outputs": [],
   "source": [
    "#learning_rate = trial.suggest_loguniform('learning_rate', 0.001, 0.1)\n",
    "#max_depth = trial.suggest_int('max_depth', 5, 15)\n",
    "#gamma = trial.suggest_uniform('gamma', 0.5, 1)\n",
    "#subsample = trial.suggest_discrete_uniform('subsample', 0.5, 0.9, 0.1)\n",
    "#reg_lambda = trial.suggest_discrete_uniform('reg_lambda', 0.5, 1, 0.25)\n",
    "gamma = 0.7960376699084336\n",
    "learning_rate = 0.0989074596700562\n",
    "max_depth = 11\n",
    "reg_lambda = 0.5\n",
    "subsample = 0.5\n",
    "xgbmodel = xgb.XGBClassifier(objective = 'binary:logistic', learning_rate = learning_rate, max_depth = max_depth, \n",
    "                                  gamma = gamma, subsample = subsample, reg_lambda = reg_lambda,\n",
    "                                  n_jobs = -1, eval_metric = 'auc', eta = 0.3)\n",
    "                                  #n_jobs = -1, sample_weight = ytr['weight'], eval_metric = 'auc', eta = 0.3)"
   ]
  },
  {
   "cell_type": "markdown",
   "metadata": {},
   "source": [
    "## Defining generator"
   ]
  },
  {
   "cell_type": "code",
   "execution_count": 14,
   "metadata": {},
   "outputs": [],
   "source": [
    "class ModelGConvTranspose(nn.Module):\n",
    "    def __init__(self, z_dim):\n",
    "        self.z_dim = z_dim\n",
    "        super(ModelGConvTranspose, self).__init__()\n",
    "        self.fc1 = nn.Linear(self.z_dim + 2 + 3, 64)\n",
    "        self.fc2 = nn.Linear(64, 128)\n",
    "        self.fc3 = nn.Linear(128, 512)\n",
    "        self.fc4 = nn.Linear(512, 20736)\n",
    "        \n",
    "        self.conv1 = nn.ConvTranspose2d(256, 256, 3, stride=2, output_padding=1)\n",
    "        self.conv2 = nn.ConvTranspose2d(256, 128, 3)\n",
    "        self.conv3 = nn.ConvTranspose2d(128, 64, 3)\n",
    "        self.conv4 = nn.ConvTranspose2d(64, 32, 3)\n",
    "        self.conv5 = nn.ConvTranspose2d(32, 16, 3)\n",
    "        self.conv6 = nn.ConvTranspose2d(16, 1, 3)\n",
    "        \n",
    "        \n",
    "    def forward(self, z, ParticleMomentum_ParticlePoint):\n",
    "        x = F.leaky_relu(self.fc1(\n",
    "            torch.cat([z, ParticleMomentum_ParticlePoint], dim=1)\n",
    "        ))\n",
    "        x = F.leaky_relu(self.fc2(x))\n",
    "        x = F.leaky_relu(self.fc3(x))\n",
    "        x = F.leaky_relu(self.fc4(x))\n",
    "        \n",
    "        EnergyDeposit = x.view(-1, 256, 9, 9)\n",
    "        \n",
    "        EnergyDeposit = F.leaky_relu(self.conv1(EnergyDeposit))\n",
    "        EnergyDeposit = F.leaky_relu(self.conv2(EnergyDeposit))\n",
    "        EnergyDeposit = F.leaky_relu(self.conv3(EnergyDeposit))\n",
    "        EnergyDeposit = F.leaky_relu(self.conv4(EnergyDeposit))\n",
    "        EnergyDeposit = F.leaky_relu(self.conv5(EnergyDeposit))\n",
    "        EnergyDeposit = self.conv6(EnergyDeposit)\n",
    "\n",
    "        return EnergyDeposit"
   ]
  },
  {
   "cell_type": "code",
   "execution_count": 15,
   "metadata": {},
   "outputs": [],
   "source": [
    "class MyModelGConvTranspose(nn.Module):\n",
    "    def __init__(self, z_dim):\n",
    "        self.z_dim = z_dim\n",
    "        super(MyModelGConvTranspose, self).__init__()\n",
    "        self.fc1 = nn.Linear(self.z_dim + 2 + 3, 64)\n",
    "        self.fc2 = nn.Linear(64, 128)\n",
    "        self.fc3 = nn.Linear(128, 512)\n",
    "        self.fc4 = nn.Linear(512, 4096)\n",
    "        \n",
    "        #self.conv1 = nn.ConvTranspose2d(256, 256, 3, stride=2, output_padding=1)#--> 256 * 4 * 4\n",
    "        self.conv2 = nn.ConvTranspose2d(256, 128, 2, stride=2)#-->128 * 8 * 8\n",
    "        self.bn2 = nn.BatchNorm2d(128)\n",
    "        self.conv3 = nn.ConvTranspose2d(128, 64, 2, stride=2)#--> 64 * 16 * 16\n",
    "        self.bn3 = nn.BatchNorm2d(64)\n",
    "        self.conv4 = nn.ConvTranspose2d(64, 32, 2, stride=2)#--> 32 * 32 * 32\n",
    "        self.bn4 = nn.BatchNorm2d(32)\n",
    "        self.conv5 = nn.ConvTranspose2d(32, 1, 1, stride=1, padding=1)#--> 1 * 30 * 30\n",
    "        \n",
    "        \n",
    "    def forward(self, z, ParticleMomentum_ParticlePoint):\n",
    "        x = F.leaky_relu(self.fc1(\n",
    "            torch.cat([z, ParticleMomentum_ParticlePoint], dim=1)\n",
    "        ))\n",
    "        x = F.leaky_relu(self.fc2(x))\n",
    "        x = F.leaky_relu(self.fc3(x))\n",
    "        x = F.leaky_relu(self.fc4(x))\n",
    "        \n",
    "        #EnergyDeposit = x.view(-1, 256, 9, 9)\n",
    "        EnergyDeposit = x.view(-1, 256, 4, 4)\n",
    "        \n",
    "        #EnergyDeposit = F.relu(self.conv1(EnergyDeposit))\n",
    "        EnergyDeposit = F.leaky_relu(self.bn2(self.conv2(EnergyDeposit)))\n",
    "        EnergyDeposit = F.leaky_relu(self.bn3(self.conv3(EnergyDeposit)))\n",
    "        EnergyDeposit = F.leaky_relu(self.bn4(self.conv4(EnergyDeposit)))\n",
    "        EnergyDeposit = self.conv5(EnergyDeposit)\n",
    "\n",
    "        return EnergyDeposit"
   ]
  },
  {
   "cell_type": "markdown",
   "metadata": {},
   "source": [
    "## Check our models on one batch "
   ]
  },
  {
   "cell_type": "code",
   "execution_count": 16,
   "metadata": {},
   "outputs": [],
   "source": [
    "NOISE_DIM = 10\n",
    "\n",
    "#discriminator = ModelD().to(device)\n",
    "#generator = ModelGConvTranspose(z_dim=NOISE_DIM).to(device)\n",
    "discriminator = MyModelD().to(device)\n",
    "generator = MyModelGConvTranspose(z_dim=NOISE_DIM).to(device)"
   ]
  },
  {
   "cell_type": "code",
   "execution_count": 17,
   "metadata": {},
   "outputs": [],
   "source": [
    "EnergyDeposit_b, ParticleMomentum_b, ParticlePoint_b = EnergyDeposit_b.to(device), \\\n",
    "                                                       ParticleMomentum_b.to(device), \\\n",
    "                                                       ParticlePoint_b.to(device)\n",
    "ParticleMomentum_ParticlePoint_b = torch.cat([ParticleMomentum_b.to(device), ParticlePoint_b.to(device)], dim=1)"
   ]
  },
  {
   "cell_type": "code",
   "execution_count": 18,
   "metadata": {},
   "outputs": [
    {
     "data": {
      "text/plain": [
       "torch.Size([128, 1, 30, 30])"
      ]
     },
     "execution_count": 18,
     "metadata": {},
     "output_type": "execute_result"
    }
   ],
   "source": [
    "EnergyDeposit_b.shape"
   ]
  },
  {
   "cell_type": "code",
   "execution_count": 19,
   "metadata": {},
   "outputs": [
    {
     "data": {
      "text/plain": [
       "torch.Size([128, 1])"
      ]
     },
     "execution_count": 19,
     "metadata": {},
     "output_type": "execute_result"
    }
   ],
   "source": [
    "discriminator(EnergyDeposit_b, ParticleMomentum_ParticlePoint_b).shape"
   ]
  },
  {
   "cell_type": "code",
   "execution_count": 20,
   "metadata": {},
   "outputs": [
    {
     "data": {
      "text/plain": [
       "torch.Size([128, 1, 30, 30])"
      ]
     },
     "execution_count": 20,
     "metadata": {},
     "output_type": "execute_result"
    }
   ],
   "source": [
    "noise = torch.randn(len(EnergyDeposit_b), NOISE_DIM).to(device)\n",
    "generator(noise, ParticleMomentum_ParticlePoint_b).shape"
   ]
  },
  {
   "cell_type": "markdown",
   "metadata": {},
   "source": [
    "## Defining optimiser"
   ]
  },
  {
   "cell_type": "code",
   "execution_count": 21,
   "metadata": {},
   "outputs": [],
   "source": [
    "learning_rate_dis = 1e-3\n",
    "learning_rate_gen = 1e-3\n",
    "\n",
    "g_optimizer = optim.Adam(generator.parameters(), lr=learning_rate_gen, weight_decay=1e-6)\n",
    "d_optimizer = optim.SGD(discriminator.parameters(), lr=learning_rate_dis, weight_decay=1e-6)"
   ]
  },
  {
   "cell_type": "markdown",
   "metadata": {},
   "source": [
    "## Load scores"
   ]
  },
  {
   "cell_type": "code",
   "execution_count": 22,
   "metadata": {},
   "outputs": [],
   "source": [
    "from prd_score import compute_prd, compute_prd_from_embedding, _prd_to_f_beta\n",
    "from sklearn.metrics import auc"
   ]
  },
  {
   "cell_type": "code",
   "execution_count": 23,
   "metadata": {},
   "outputs": [],
   "source": [
    "\n",
    "def run_training(epochs):\n",
    "\n",
    "    # ===========================\n",
    "    # IMPORTANT PARAMETER:\n",
    "    # Number of D updates per G update\n",
    "    # ===========================\n",
    "    k_d, k_g = 5, 1 #<--10, 1?\n",
    "    #k_d, k_g = 10, 1\n",
    "\n",
    "    gan_losses = GANLosses(TASK, device)\n",
    "    dis_epoch_loss = []\n",
    "    gen_epoch_loss = []\n",
    "    predictions_dis = []\n",
    "    predictions_gen = []\n",
    "    prd_auc = []  \n",
    "    for epoch in tqdm(range(epochs)):\n",
    "        first = True\n",
    "        \n",
    "        for EnergyDeposit_b, ParticleMomentum_b, ParticlePoint_b in calo_dataloader:\n",
    "            EnergyDeposit_b, ParticleMomentum_b, ParticlePoint_b = EnergyDeposit_b.to(device), \\\n",
    "                                                                   ParticleMomentum_b.to(device), \\\n",
    "                                                                   ParticlePoint_b.to(device)\n",
    "            ParticleMomentum_ParticlePoint_b = torch.cat([ParticleMomentum_b.to(device), ParticlePoint_b.to(device)], dim=1)\n",
    "            if first:\n",
    "                noise = torch.randn(len(EnergyDeposit_b), NOISE_DIM).to(device)\n",
    "                EnergyDeposit_gen = generator(noise, ParticleMomentum_ParticlePoint_b)\n",
    "                predictions_dis.append(\n",
    "                    list(discriminator(EnergyDeposit_b, ParticleMomentum_ParticlePoint_b).detach().cpu().numpy().ravel())\n",
    "                )\n",
    "\n",
    "                predictions_gen.append(\n",
    "                    list(discriminator(EnergyDeposit_gen, ParticleMomentum_ParticlePoint_b).detach().cpu().numpy().ravel())\n",
    "                )\n",
    "                \n",
    "            # Optimize D\n",
    "            for _ in range(k_d):\n",
    "                noise = torch.randn(len(EnergyDeposit_b), NOISE_DIM).to(device)\n",
    "                EnergyDeposit_gen = generator(noise, ParticleMomentum_ParticlePoint_b)\n",
    "    \n",
    "                if INSTANCE_NOISE:\n",
    "                    EnergyDeposit_b = add_instance_noise(EnergyDeposit_b)\n",
    "                    EnergyDeposit_gen = add_instance_noise(EnergyDeposit_gen)\n",
    "                    \n",
    "                loss = gan_losses.d_loss(discriminator(EnergyDeposit_gen, ParticleMomentum_ParticlePoint_b),\n",
    "                                         discriminator(EnergyDeposit_b, ParticleMomentum_ParticlePoint_b))\n",
    "                if GRAD_PENALTY:\n",
    "                    grad_penalty = gan_losses.calc_gradient_penalty(discriminator,\n",
    "                                                                    EnergyDeposit_gen.data,\n",
    "                                                                    ParticleMomentum_ParticlePoint_b,\n",
    "                                                                    EnergyDeposit_b.data)\n",
    "                    loss += grad_penalty\n",
    "                    \n",
    "                elif ZERO_CENTERED_GRAD_PENALTY:\n",
    "                    grad_penalty = gan_losses.calc_zero_centered_GP(discriminator,\n",
    "                                                                    EnergyDeposit_gen.data,\n",
    "                                                                    ParticleMomentum_ParticlePoint_b,\n",
    "                                                                    EnergyDeposit_b.data)\n",
    "                    loss -= grad_penalty\n",
    "                if XGB_PENALTY:\n",
    "                    xgb_penalty = gan_losses.calc_xgb_penalty(xgbmodel,\n",
    "                                                                    EnergyDeposit_gen.data,\n",
    "                                                                    ParticleMomentum_ParticlePoint_b,\n",
    "                                                                    EnergyDeposit_b.data, 0.5)\n",
    "                    loss += xgb_penalty\n",
    "\n",
    "                d_optimizer.zero_grad()\n",
    "                loss.backward()\n",
    "                d_optimizer.step()\n",
    "                if LIPSITZ_WEIGHTS:                    \n",
    "                    [p.data.clamp_(clamp_lower, clamp_upper) for p in discriminator.parameters()]\n",
    "\n",
    "            dis_epoch_loss.append(loss.item())\n",
    "\n",
    "            # Optimize G\n",
    "            for _ in range(k_g):\n",
    "                noise = torch.randn(len(EnergyDeposit_b), NOISE_DIM).to(device)\n",
    "                EnergyDeposit_gen = generator(noise, ParticleMomentum_ParticlePoint_b)\n",
    "                \n",
    "                if INSTANCE_NOISE:\n",
    "                    EnergyDeposit_b = add_instance_noise(EnergyDeposit_b)\n",
    "                    EnergyDeposit_gen = add_instance_noise(EnergyDeposit_gen)\n",
    "                \n",
    "                loss = gan_losses.g_loss(discriminator(EnergyDeposit_gen, ParticleMomentum_ParticlePoint_b))\n",
    "                g_optimizer.zero_grad()\n",
    "                loss.backward()\n",
    "                g_optimizer.step()\n",
    "                \n",
    "            gen_epoch_loss.append(loss.item())\n",
    "            if first:\n",
    "                precision, recall = compute_prd_from_embedding(\n",
    "                    EnergyDeposit_gen.detach().cpu().numpy().reshape(BATCH_SIZE, -1), \n",
    "                    EnergyDeposit_b.detach().cpu().numpy().reshape(BATCH_SIZE, -1),\n",
    "                    num_clusters=30,\n",
    "                    num_runs=100)\n",
    "                prd_auc.append(auc(precision, recall))\n",
    "                first = False\n",
    "        \n",
    "        clear_output()\n",
    "        plt.figure(figsize=(12, 12))\n",
    "        plt.plot(dis_epoch_loss, label='dis_epoch_loss')\n",
    "        plt.plot(gen_epoch_loss, label='gen_epoch_loss')\n",
    "        plt.legend()\n",
    "        plt.show()\n",
    "        \n",
    "        plt.figure(figsize=(12, 12))\n",
    "        plt.hist(predictions_dis[-1], bins=100, label='dis_epoch_loss')\n",
    "        plt.hist(predictions_gen[-1], bins=100, label='gen_epoch_loss')\n",
    "        plt.legend()\n",
    "        plt.show()\n",
    "        print(np.mean(predictions_dis[-1]), np.mean(predictions_gen[-1]))\n",
    "        \n",
    "        plt.figure(figsize=(12, 12))\n",
    "        plt.plot(prd_auc, label='prd_auc')\n",
    "        plt.plot()\n",
    "        plt.legend()\n",
    "        plt.show()"
   ]
  },
  {
   "cell_type": "code",
   "execution_count": null,
   "metadata": {
    "scrolled": false
   },
   "outputs": [
    {
     "data": {
      "image/png": "[encoded data removed]",
      "text/plain": [
       "<Figure size 864x864 with 1 Axes>"
      ]
     },
     "metadata": {
      "needs_background": "light"
     },
     "output_type": "display_data"
    },
    {
     "data": {
      "image/png": "[encoded data removed]",
      "text/plain": [
       "<Figure size 864x864 with 1 Axes>"
      ]
     },
     "metadata": {
      "needs_background": "light"
     },
     "output_type": "display_data"
    },
    {
     "name": "stdout",
     "output_type": "stream",
     "text": [
      "0.0359926 0.037855748\n"
     ]
    },
    {
     "data": {
      "image/png": "[encoded data removed]",
      "text/plain": [
       "<Figure size 864x864 with 1 Axes>"
      ]
     },
     "metadata": {
      "needs_background": "light"
     },
     "output_type": "display_data"
    },
    {
     "name": "stderr",
     "output_type": "stream",
     "text": [
      "\r",
      " 28%|██▊       | 70/250 [3:20:41<8:23:48, 167.94s/it]"
     ]
    }
   ],
   "source": [
    "run_training(250)"
   ]
  },
  {
   "cell_type": "markdown",
   "metadata": {},
   "source": [
    "#### Transfer generator on CPU:"
   ]
  },
  {
   "cell_type": "code",
   "execution_count": 241,
   "metadata": {},
   "outputs": [
    {
     "data": {
      "text/plain": [
       "MyModelGConvTranspose(\n",
       "  (fc1): Linear(in_features=15, out_features=64, bias=True)\n",
       "  (fc2): Linear(in_features=64, out_features=128, bias=True)\n",
       "  (fc3): Linear(in_features=128, out_features=512, bias=True)\n",
       "  (fc4): Linear(in_features=512, out_features=4096, bias=True)\n",
       "  (conv2): ConvTranspose2d(256, 128, kernel_size=(2, 2), stride=(2, 2))\n",
       "  (bn2): BatchNorm2d(128, eps=1e-05, momentum=0.1, affine=True, track_running_stats=True)\n",
       "  (conv3): ConvTranspose2d(128, 64, kernel_size=(2, 2), stride=(2, 2))\n",
       "  (bn3): BatchNorm2d(64, eps=1e-05, momentum=0.1, affine=True, track_running_stats=True)\n",
       "  (conv4): ConvTranspose2d(64, 32, kernel_size=(2, 2), stride=(2, 2))\n",
       "  (bn4): BatchNorm2d(32, eps=1e-05, momentum=0.1, affine=True, track_running_stats=True)\n",
       "  (conv5): ConvTranspose2d(32, 1, kernel_size=(1, 1), stride=(1, 1), padding=(1, 1))\n",
       ")"
      ]
     },
     "execution_count": 241,
     "metadata": {},
     "output_type": "execute_result"
    }
   ],
   "source": [
    "#generator_cpu = ModelGConvTranspose(z_dim=NOISE_DIM)\n",
    "generator_cpu = MyModelGConvTranspose(z_dim=NOISE_DIM)\n",
    "generator_cpu.load_state_dict(generator.state_dict())\n",
    "generator_cpu.eval()"
   ]
  },
  {
   "cell_type": "code",
   "execution_count": 242,
   "metadata": {},
   "outputs": [
    {
     "data": {
      "text/plain": [
       "MyModelD(\n",
       "  (conv1): Conv2d(1, 32, kernel_size=(3, 3), stride=(1, 1), padding=(2, 2))\n",
       "  (bn1): BatchNorm2d(32, eps=1e-05, momentum=0.1, affine=True, track_running_stats=True)\n",
       "  (dropout): Dropout(p=0.3)\n",
       "  (conv2): Conv2d(32, 64, kernel_size=(2, 2), stride=(2, 2))\n",
       "  (bn2): BatchNorm2d(64, eps=1e-05, momentum=0.1, affine=True, track_running_stats=True)\n",
       "  (conv3): Conv2d(64, 128, kernel_size=(2, 2), stride=(2, 2))\n",
       "  (conv4): Conv2d(128, 256, kernel_size=(2, 2), stride=(2, 2))\n",
       "  (fc1): Linear(in_features=4101, out_features=512, bias=True)\n",
       "  (fc2): Linear(in_features=512, out_features=128, bias=True)\n",
       "  (fc3): Linear(in_features=128, out_features=64, bias=True)\n",
       "  (fc4): Linear(in_features=64, out_features=1, bias=True)\n",
       ")"
      ]
     },
     "execution_count": 242,
     "metadata": {},
     "output_type": "execute_result"
    }
   ],
   "source": [
    "#generator_cpu = ModelGConvTranspose(z_dim=NOISE_DIM)\n",
    "discriminator_cpu = MyModelD()\n",
    "discriminator_cpu.load_state_dict(discriminator.state_dict())\n",
    "discriminator_cpu.eval()"
   ]
  },
  {
   "cell_type": "markdown",
   "metadata": {},
   "source": [
    "## Making predictions"
   ]
  },
  {
   "cell_type": "markdown",
   "metadata": {},
   "source": [
    "#### Validation predictions"
   ]
  },
  {
   "cell_type": "code",
   "execution_count": 243,
   "metadata": {
    "scrolled": true
   },
   "outputs": [
    {
     "name": "stderr",
     "output_type": "stream",
     "text": [
      "\n",
      "\n",
      "  0%|          | 0/50 [00:00<?, ?it/s]\u001b[A\u001b[A\n",
      "\n",
      "  2%|▏         | 1/50 [00:01<01:00,  1.23s/it]\u001b[A\u001b[A\n",
      "\n",
      "  4%|▍         | 2/50 [00:02<00:56,  1.18s/it]\u001b[A\u001b[A\n",
      "\n",
      "  6%|▌         | 3/50 [00:03<00:53,  1.14s/it]\u001b[A\u001b[A\n",
      "\n",
      "  8%|▊         | 4/50 [00:04<00:51,  1.13s/it]\u001b[A\u001b[A\n",
      "\n",
      " 10%|█         | 5/50 [00:05<00:50,  1.12s/it]\u001b[A\u001b[A\n",
      "\n",
      " 12%|█▏        | 6/50 [00:06<00:48,  1.09s/it]\u001b[A\u001b[A\n",
      "\n",
      " 14%|█▍        | 7/50 [00:07<00:46,  1.09s/it]\u001b[A\u001b[A\n",
      "\n",
      " 16%|█▌        | 8/50 [00:08<00:45,  1.07s/it]\u001b[A\u001b[A\n",
      "\n",
      " 18%|█▊        | 9/50 [00:09<00:43,  1.07s/it]\u001b[A\u001b[A\n",
      "\n",
      " 20%|██        | 10/50 [00:11<00:45,  1.15s/it]\u001b[A\u001b[A\n",
      "\n",
      " 22%|██▏       | 11/50 [00:12<00:44,  1.14s/it]\u001b[A\u001b[A\n",
      "\n",
      " 24%|██▍       | 12/50 [00:13<00:42,  1.11s/it]\u001b[A\u001b[A\n",
      "\n",
      " 26%|██▌       | 13/50 [00:14<00:40,  1.10s/it]\u001b[A\u001b[A\n",
      "\n",
      " 28%|██▊       | 14/50 [00:15<00:38,  1.08s/it]\u001b[A\u001b[A\n",
      "\n",
      " 30%|███       | 15/50 [00:16<00:37,  1.07s/it]\u001b[A\u001b[A\n",
      "\n",
      " 32%|███▏      | 16/50 [00:17<00:38,  1.13s/it]\u001b[A\u001b[A\n",
      "\n",
      " 34%|███▍      | 17/50 [00:18<00:35,  1.09s/it]\u001b[A\u001b[A\n",
      "\n",
      " 36%|███▌      | 18/50 [00:19<00:34,  1.08s/it]\u001b[A\u001b[A\n",
      "\n",
      " 38%|███▊      | 19/50 [00:20<00:32,  1.06s/it]\u001b[A\u001b[A\n",
      "\n",
      " 40%|████      | 20/50 [00:21<00:31,  1.03s/it]\u001b[A\u001b[A\n",
      "\n",
      " 42%|████▏     | 21/50 [00:22<00:29,  1.02s/it]\u001b[A\u001b[A\n",
      "\n",
      " 44%|████▍     | 22/50 [00:23<00:29,  1.05s/it]\u001b[A\u001b[A\n",
      "\n",
      " 46%|████▌     | 23/50 [00:24<00:28,  1.07s/it]\u001b[A\u001b[A\n",
      "\n",
      " 48%|████▊     | 24/50 [00:26<00:29,  1.13s/it]\u001b[A\u001b[A\n",
      "\n",
      " 50%|█████     | 25/50 [00:27<00:27,  1.08s/it]\u001b[A\u001b[A\n",
      "\n",
      " 52%|█████▏    | 26/50 [00:28<00:25,  1.06s/it]\u001b[A\u001b[A\n",
      "\n",
      " 54%|█████▍    | 27/50 [00:29<00:23,  1.03s/it]\u001b[A\u001b[A\n",
      "\n",
      " 56%|█████▌    | 28/50 [00:30<00:22,  1.03s/it]\u001b[A\u001b[A\n",
      "\n",
      " 58%|█████▊    | 29/50 [00:31<00:21,  1.02s/it]\u001b[A\u001b[A\n",
      "\n",
      " 60%|██████    | 30/50 [00:32<00:20,  1.02s/it]\u001b[A\u001b[A\n",
      "\n",
      " 62%|██████▏   | 31/50 [00:33<00:19,  1.02s/it]\u001b[A\u001b[A\n",
      "\n",
      " 64%|██████▍   | 32/50 [00:34<00:18,  1.01s/it]\u001b[A\u001b[A\n",
      "\n",
      " 66%|██████▌   | 33/50 [00:35<00:17,  1.01s/it]\u001b[A\u001b[A\n",
      "\n",
      " 68%|██████▊   | 34/50 [00:36<00:16,  1.01s/it]\u001b[A\u001b[A\n",
      "\n",
      " 70%|███████   | 35/50 [00:37<00:15,  1.00s/it]\u001b[A\u001b[A\n",
      "\n",
      " 72%|███████▏  | 36/50 [00:38<00:14,  1.00s/it]\u001b[A\u001b[A\n",
      "\n",
      " 74%|███████▍  | 37/50 [00:39<00:12,  1.00it/s]\u001b[A\u001b[A\n",
      "\n",
      " 76%|███████▌  | 38/50 [00:40<00:11,  1.01it/s]\u001b[A\u001b[A\n",
      "\n",
      " 78%|███████▊  | 39/50 [00:41<00:10,  1.01it/s]\u001b[A\u001b[A\n",
      "\n",
      " 80%|████████  | 40/50 [00:42<00:09,  1.02it/s]\u001b[A\u001b[A\n",
      "\n",
      " 82%|████████▏ | 41/50 [00:43<00:08,  1.01it/s]\u001b[A\u001b[A\n",
      "\n",
      " 84%|████████▍ | 42/50 [00:44<00:07,  1.01it/s]\u001b[A\u001b[A\n",
      "\n",
      " 86%|████████▌ | 43/50 [00:45<00:06,  1.02it/s]\u001b[A\u001b[A\n",
      "\n",
      " 88%|████████▊ | 44/50 [00:46<00:05,  1.00it/s]\u001b[A\u001b[A\n",
      "\n",
      " 90%|█████████ | 45/50 [00:47<00:04,  1.01it/s]\u001b[A\u001b[A\n",
      "\n",
      " 92%|█████████▏| 46/50 [00:48<00:04,  1.03s/it]\u001b[A\u001b[A\n",
      "\n",
      " 94%|█████████▍| 47/50 [00:49<00:03,  1.09s/it]\u001b[A\u001b[A\n",
      "\n",
      " 96%|█████████▌| 48/50 [00:50<00:02,  1.06s/it]\u001b[A\u001b[A\n",
      "\n",
      " 98%|█████████▊| 49/50 [00:51<00:01,  1.04s/it]\u001b[A\u001b[A\n",
      "\n",
      "100%|██████████| 50/50 [00:51<00:00,  1.03s/it]\u001b[A\u001b[A"
     ]
    },
    {
     "data": {
      "text/plain": [
       "<torch.utils.data.dataloader.DataLoader at 0x1a2132b208>"
      ]
     },
     "execution_count": 243,
     "metadata": {},
     "output_type": "execute_result"
    }
   ],
   "source": [
    "data_val = np.load(val_data_path, allow_pickle=True)\n",
    "ParticleMomentum_val = torch.tensor(data_val['ParticleMomentum']).float()\n",
    "ParticlePoint_val = torch.tensor(data_val['ParticlePoint'][:, :2]).float()\n",
    "ParticleMomentum_ParticlePoint_val = torch.cat([ParticleMomentum_val, ParticlePoint_val], dim=1)\n",
    "calo_dataset_val = utils.TensorDataset(ParticleMomentum_ParticlePoint_val)\n",
    "calo_dataloader_val = torch.utils.data.DataLoader(calo_dataset_val, batch_size=1024, shuffle=False)\n",
    "\n",
    "with torch.no_grad():\n",
    "    EnergyDeposit_val = []\n",
    "    for ParticleMomentum_ParticlePoint_val_batch in tqdm(calo_dataloader_val):\n",
    "        noise = torch.randn(len(ParticleMomentum_ParticlePoint_val_batch[0]), NOISE_DIM)\n",
    "        EnergyDeposit_val_batch = generator_cpu(noise, ParticleMomentum_ParticlePoint_val_batch[0]).detach().numpy()\n",
    "        EnergyDeposit_val.append(EnergyDeposit_val_batch)\n",
    "    np.savez_compressed('./data_val_prediction.npz', \n",
    "                        EnergyDeposit=np.concatenate(EnergyDeposit_val, axis=0))\n",
    "\n",
    "    del EnergyDeposit_val\n",
    "del data_val; del ParticleMomentum_val; del ParticlePoint_val; del ParticleMomentum_ParticlePoint_val;\n",
    "del calo_dataset_val; calo_dataloader_val"
   ]
  },
  {
   "cell_type": "markdown",
   "metadata": {},
   "source": [
    "#### Test predictions"
   ]
  },
  {
   "cell_type": "code",
   "execution_count": 244,
   "metadata": {},
   "outputs": [
    {
     "name": "stderr",
     "output_type": "stream",
     "text": [
      "\n",
      "\n",
      "  0%|          | 0/49 [00:00<?, ?it/s]\u001b[A\u001b[A\n",
      "\n",
      "  2%|▏         | 1/49 [00:01<00:51,  1.07s/it]\u001b[A\u001b[A\n",
      "\n",
      "  4%|▍         | 2/49 [00:02<00:48,  1.04s/it]\u001b[A\u001b[A\n",
      "\n",
      "  6%|▌         | 3/49 [00:02<00:46,  1.02s/it]\u001b[A\u001b[A\n",
      "\n",
      "  8%|▊         | 4/49 [00:03<00:45,  1.00s/it]\u001b[A\u001b[A\n",
      "\n",
      " 10%|█         | 5/49 [00:04<00:43,  1.01it/s]\u001b[A\u001b[A\n",
      "\n",
      " 12%|█▏        | 6/49 [00:05<00:42,  1.02it/s]\u001b[A\u001b[A\n",
      "\n",
      " 14%|█▍        | 7/49 [00:06<00:41,  1.02it/s]\u001b[A\u001b[A\n",
      "\n",
      " 16%|█▋        | 8/49 [00:07<00:39,  1.03it/s]\u001b[A\u001b[A\n",
      "\n",
      " 18%|█▊        | 9/49 [00:08<00:38,  1.03it/s]\u001b[A\u001b[A\n",
      "\n",
      " 20%|██        | 10/49 [00:09<00:38,  1.03it/s]\u001b[A\u001b[A\n",
      "\n",
      " 22%|██▏       | 11/49 [00:10<00:37,  1.02it/s]\u001b[A\u001b[A\n",
      "\n",
      " 24%|██▍       | 12/49 [00:11<00:36,  1.01it/s]\u001b[A\u001b[A\n",
      "\n",
      " 27%|██▋       | 13/49 [00:12<00:35,  1.01it/s]\u001b[A\u001b[A\n",
      "\n",
      " 29%|██▊       | 14/49 [00:13<00:34,  1.01it/s]\u001b[A\u001b[A\n",
      "\n",
      " 31%|███       | 15/49 [00:14<00:33,  1.01it/s]\u001b[A\u001b[A\n",
      "\n",
      " 33%|███▎      | 16/49 [00:15<00:32,  1.00it/s]\u001b[A\u001b[A\n",
      "\n",
      " 35%|███▍      | 17/49 [00:16<00:31,  1.01it/s]\u001b[A\u001b[A\n",
      "\n",
      " 37%|███▋      | 18/49 [00:17<00:31,  1.01s/it]\u001b[A\u001b[A\n",
      "\n",
      " 39%|███▉      | 19/49 [00:18<00:30,  1.00s/it]\u001b[A\u001b[A\n",
      "\n",
      " 41%|████      | 20/49 [00:19<00:28,  1.00it/s]\u001b[A\u001b[A\n",
      "\n",
      " 43%|████▎     | 21/49 [00:20<00:27,  1.00it/s]\u001b[A\u001b[A\n",
      "\n",
      " 45%|████▍     | 22/49 [00:21<00:26,  1.01it/s]\u001b[A\u001b[A\n",
      "\n",
      " 47%|████▋     | 23/49 [00:22<00:25,  1.01it/s]\u001b[A\u001b[A\n",
      "\n",
      " 49%|████▉     | 24/49 [00:23<00:24,  1.00it/s]\u001b[A\u001b[A\n",
      "\n",
      " 51%|█████     | 25/49 [00:24<00:24,  1.01s/it]\u001b[A\u001b[A\n",
      "\n",
      " 53%|█████▎    | 26/49 [00:25<00:23,  1.00s/it]\u001b[A\u001b[A\n",
      "\n",
      " 55%|█████▌    | 27/49 [00:26<00:22,  1.04s/it]\u001b[A\u001b[A\n",
      "\n",
      " 57%|█████▋    | 28/49 [00:27<00:21,  1.03s/it]\u001b[A\u001b[A\n",
      "\n",
      " 59%|█████▉    | 29/49 [00:28<00:20,  1.02s/it]\u001b[A\u001b[A\n",
      "\n",
      " 61%|██████    | 30/49 [00:29<00:19,  1.02s/it]\u001b[A\u001b[A\n",
      "\n",
      " 63%|██████▎   | 31/49 [00:30<00:18,  1.01s/it]\u001b[A\u001b[A\n",
      "\n",
      " 65%|██████▌   | 32/49 [00:31<00:17,  1.01s/it]\u001b[A\u001b[A\n",
      "\n",
      " 67%|██████▋   | 33/49 [00:32<00:16,  1.01s/it]\u001b[A\u001b[A\n",
      "\n",
      " 69%|██████▉   | 34/49 [00:33<00:15,  1.01s/it]\u001b[A\u001b[A\n",
      "\n",
      " 71%|███████▏  | 35/49 [00:34<00:14,  1.00s/it]\u001b[A\u001b[A\n",
      "\n",
      " 73%|███████▎  | 36/49 [00:35<00:12,  1.00it/s]\u001b[A\u001b[A\n",
      "\n",
      " 76%|███████▌  | 37/49 [00:36<00:12,  1.00s/it]\u001b[A\u001b[A\n",
      "\n",
      " 78%|███████▊  | 38/49 [00:37<00:11,  1.01s/it]\u001b[A\u001b[A\n",
      "\n",
      " 80%|███████▉  | 39/49 [00:38<00:10,  1.02s/it]\u001b[A\u001b[A\n",
      "\n",
      " 82%|████████▏ | 40/49 [00:39<00:09,  1.01s/it]\u001b[A\u001b[A\n",
      "\n",
      " 84%|████████▎ | 41/49 [00:40<00:08,  1.01s/it]\u001b[A\u001b[A\n",
      "\n",
      " 86%|████████▌ | 42/49 [00:42<00:07,  1.01s/it]\u001b[A\u001b[A\n",
      "\n",
      " 88%|████████▊ | 43/49 [00:42<00:06,  1.00s/it]\u001b[A\u001b[A\n",
      "\n",
      " 90%|████████▉ | 44/49 [00:43<00:04,  1.00it/s]\u001b[A\u001b[A\n",
      "\n",
      " 92%|█████████▏| 45/49 [00:44<00:03,  1.01it/s]\u001b[A\u001b[A\n",
      "\n",
      " 94%|█████████▍| 46/49 [00:45<00:02,  1.01it/s]\u001b[A\u001b[A\n",
      "\n",
      " 96%|█████████▌| 47/49 [00:46<00:01,  1.01it/s]\u001b[A\u001b[A\n",
      "\n",
      " 98%|█████████▊| 48/49 [00:47<00:00,  1.02it/s]\u001b[A\u001b[A\n",
      "\n",
      "100%|██████████| 49/49 [00:48<00:00,  1.28it/s]\u001b[A\u001b[A"
     ]
    },
    {
     "data": {
      "text/plain": [
       "<torch.utils.data.dataloader.DataLoader at 0x1a252a6940>"
      ]
     },
     "execution_count": 244,
     "metadata": {},
     "output_type": "execute_result"
    }
   ],
   "source": [
    "data_test = np.load(test_data_path, allow_pickle=True)\n",
    "ParticleMomentum_test = torch.tensor(data_test['ParticleMomentum']).float()\n",
    "ParticlePoint_test = torch.tensor(data_test['ParticlePoint'][:, :2]).float()\n",
    "ParticleMomentum_ParticlePoint_test = torch.cat([ParticleMomentum_test, ParticlePoint_test], dim=1)\n",
    "calo_dataset_test = utils.TensorDataset(ParticleMomentum_ParticlePoint_test)\n",
    "calo_dataloader_test = torch.utils.data.DataLoader(calo_dataset_test, batch_size=1024, shuffle=False)\n",
    "\n",
    "with torch.no_grad():\n",
    "    EnergyDeposit_test = []\n",
    "    for ParticleMomentum_ParticlePoint_test_batch in tqdm(calo_dataloader_test):\n",
    "        noise = torch.randn(len(ParticleMomentum_ParticlePoint_test_batch[0]), NOISE_DIM)\n",
    "        EnergyDeposit_test_batch = generator_cpu(noise, ParticleMomentum_ParticlePoint_test_batch[0]).detach().numpy()\n",
    "        EnergyDeposit_test.append(EnergyDeposit_test_batch)\n",
    "    np.savez_compressed('./data_test_prediction.npz', \n",
    "                        EnergyDeposit=np.concatenate(EnergyDeposit_test, axis=0))\n",
    "\n",
    "    del EnergyDeposit_test\n",
    "del data_test; del ParticleMomentum_test; del ParticlePoint_test; del ParticleMomentum_ParticlePoint_test;\n",
    "del calo_dataset_test; calo_dataloader_test"
   ]
  },
  {
   "cell_type": "markdown",
   "metadata": {},
   "source": [
    "## `zip-zip` files together"
   ]
  },
  {
   "cell_type": "code",
   "execution_count": 245,
   "metadata": {},
   "outputs": [
    {
     "name": "stdout",
     "output_type": "stream",
     "text": [
      "  adding: data_val_prediction.npz (deflated 0%)\n",
      "  adding: data_test_prediction.npz (deflated 0%)\n"
     ]
    }
   ],
   "source": [
    "!zip solution.zip data_val_prediction.npz data_test_prediction.npz"
   ]
  },
  {
   "cell_type": "code",
   "execution_count": 246,
   "metadata": {},
   "outputs": [
    {
     "data": {
      "text/html": [
       "<a href='./solution.zip' target='_blank'>./solution.zip</a><br>"
      ],
      "text/plain": [
       "/Users/rinaonda/Downloads/MLHEP/MLHEP2019/mlhep2019_2_phase-master/analysis/solution.zip"
      ]
     },
     "execution_count": 246,
     "metadata": {},
     "output_type": "execute_result"
    }
   ],
   "source": [
    "from IPython.display import FileLink\n",
    "FileLink('./solution.zip')"
   ]
  },
  {
   "cell_type": "code",
   "execution_count": 247,
   "metadata": {},
   "outputs": [
    {
     "name": "stderr",
     "output_type": "stream",
     "text": [
      "/anaconda/lib/python3.6/site-packages/torch/serialization.py:251: UserWarning: Couldn't retrieve source code for container of type MyModelGConvTranspose. It won't be checked for correctness upon loading.\n",
      "  \"type \" + obj.__name__ + \". It won't be checked \"\n",
      "/anaconda/lib/python3.6/site-packages/torch/serialization.py:251: UserWarning: Couldn't retrieve source code for container of type MyModelD. It won't be checked for correctness upon loading.\n",
      "  \"type \" + obj.__name__ + \". It won't be checked \"\n"
     ]
    }
   ],
   "source": [
    "torch.save(generator_cpu.state_dict(), 'generator_dict.model')\n",
    "torch.save(generator_cpu, 'generator.model')\n",
    "torch.save(discriminator_cpu.state_dict(), 'discriminator_dict.model')\n",
    "torch.save(discriminator_cpu, 'discriminator.model')"
   ]
  },
  {
   "cell_type": "markdown",
   "metadata": {},
   "source": [
    "# A few words about metrics"
   ]
  },
  {
   "cell_type": "markdown",
   "metadata": {},
   "source": [
    "### Lets generate some fake data"
   ]
  },
  {
   "cell_type": "code",
   "execution_count": null,
   "metadata": {},
   "outputs": [],
   "source": [
    "noise = torch.randn(len(ParticleMomentum), NOISE_DIM)\n",
    "ParticleMomentum_ParticlePoint = torch.cat([ParticleMomentum, \n",
    "                                            ParticlePoint], dim=1)\n",
    "EnergyDeposit_gen = generator_cpu(noise, ParticleMomentum_ParticlePoint)"
   ]
  },
  {
   "cell_type": "code",
   "execution_count": null,
   "metadata": {},
   "outputs": [],
   "source": [
    "EnergyDeposit_gen = EnergyDeposit_gen.detach().cpu().numpy().reshape(-1, 30, 30)\n",
    "EnergyDeposit = EnergyDeposit.detach().cpu().numpy().reshape(-1, 30, 30)"
   ]
  },
  {
   "cell_type": "markdown",
   "metadata": {},
   "source": [
    "#### Plot one image"
   ]
  },
  {
   "cell_type": "code",
   "execution_count": null,
   "metadata": {},
   "outputs": [],
   "source": [
    "plt.figure()\n",
    "plt.imshow(EnergyDeposit_gen[0])\n",
    "plt.colorbar()"
   ]
  },
  {
   "cell_type": "markdown",
   "metadata": {},
   "source": [
    "## Calculate PRD score between these batch "
   ]
  },
  {
   "cell_type": "code",
   "execution_count": null,
   "metadata": {},
   "outputs": [],
   "source": [
    "class Regressor(nn.Module):\n",
    "    def __init__(self):\n",
    "        super(Regressor, self).__init__()\n",
    "        self.batchnorm0 = nn.BatchNorm2d(1)\n",
    "        self.conv1 = nn.Conv2d(1, 16, 2, stride=2)\n",
    "        self.batchnorm1 = nn.BatchNorm2d(16)\n",
    "        self.conv2 = nn.Conv2d(16, 32, 2, stride=2)\n",
    "        self.batchnorm2 = nn.BatchNorm2d(32)\n",
    "        self.conv3 = nn.Conv2d(32, 64, 2, stride=2)\n",
    "        self.batchnorm3 = nn.BatchNorm2d(64)\n",
    "        self.conv4 = nn.Conv2d(64, 64, 2)\n",
    "        \n",
    "        self.dropout = nn.Dropout(p=0.3)\n",
    "        \n",
    "        self.fc1 = nn.Linear(256, 256) \n",
    "        self.batchnorm4 = nn.BatchNorm1d(256)\n",
    "        self.fc2 = nn.Linear(256, 128)\n",
    "        self.fc3 = nn.Linear(128, 64)\n",
    "        self.fc4 = nn.Linear(64, 2 + 3)\n",
    "        self.fc5 = nn.Linear(64, 1)\n",
    "        \n",
    "    def forward(self, x):\n",
    "        x = self.batchnorm0(self.dropout(x))\n",
    "        x = self.batchnorm1(self.dropout(F.relu(self.conv1(x))))\n",
    "        x = self.batchnorm2(F.relu(self.conv2(x)))\n",
    "        x = self.batchnorm3(F.relu(self.conv3(x)))\n",
    "        x = F.relu(self.conv4(x)) # 64, 5, 5\n",
    "        x = x.view(len(x), -1)\n",
    "        x = self.dropout(x)\n",
    "        x = self.batchnorm4(self.dropout(F.relu(self.fc1(x))))\n",
    "        x = F.leaky_relu(self.fc2(x))\n",
    "        x = torch.tanh(self.fc3(x))\n",
    "        return self.fc4(x), self.fc5(x)\n",
    "    \n",
    "    def get_encoding(self, x):\n",
    "        x = self.batchnorm0(self.dropout(x))\n",
    "        x = self.batchnorm1(self.dropout(F.relu(self.conv1(x))))\n",
    "        x = self.batchnorm2(F.relu(self.conv2(x)))\n",
    "        x = self.batchnorm3(F.relu(self.conv3(x)))\n",
    "        x = F.relu(self.conv4(x)) # 64, 5, 5\n",
    "        x = x.view(len(x), -1)\n",
    "        x = self.dropout(x)\n",
    "        x = self.batchnorm4(self.dropout(F.relu(self.fc1(x))))\n",
    "        x = F.leaky_relu(self.fc2(x))\n",
    "        x = self.fc3(x)\n",
    "        return x\n",
    "    \n",
    "\n",
    "def load_embedder(path):\n",
    "    embedder = torch.load(path)\n",
    "    embedder.eval()\n",
    "    return embedder\n",
    "\n",
    "embedder = load_embedder('./embedder.tp')"
   ]
  },
  {
   "cell_type": "code",
   "execution_count": null,
   "metadata": {},
   "outputs": [],
   "source": [
    "data_real = embedder.get_encoding(torch.tensor(EnergyDeposit).float().view(-1, 1, 30, 30)).detach().numpy()\n",
    "data_fake = embedder.get_encoding(torch.tensor(EnergyDeposit_gen).float().view(-1, 1, 30, 30)).detach().numpy()"
   ]
  },
  {
   "cell_type": "code",
   "execution_count": null,
   "metadata": {},
   "outputs": [],
   "source": [
    "def plot_pr_aucs(precisions, recalls):\n",
    "    plt.figure(figsize=(12, 12))\n",
    "    pr_aucs = []\n",
    "    for i in range(len(recalls)):\n",
    "        plt.step(recalls[i], precisions[i], color='b', alpha=0.2,  label='PR-AUC={}'.format(auc(precisions[i], recalls[i])))\n",
    "        pr_aucs.append(auc(precisions[i], recalls[i]))\n",
    "    plt.step(np.mean(recalls, axis=0), np.mean(precisions, axis=0), color='r', alpha=1,  label='average')\n",
    "    plt.fill_between(np.mean(recalls, axis=0), \n",
    "                     np.mean(precisions, axis=0) - np.std(precisions, axis=0) * 3,\n",
    "                     np.mean(precisions, axis=0) + np.std(precisions, axis=0) * 3, color='g', alpha=0.2,  label='std')\n",
    "\n",
    "    plt.xlabel('Recall')\n",
    "    plt.ylabel('Precision')\n",
    "\n",
    "    # plt.ylim([0.0, 1.05])\n",
    "    # plt.xlim([0.0, 1.0])\n",
    "    print(np.mean(pr_aucs), np.std(pr_aucs))\n",
    "    plt.legend()\n",
    "    \n",
    "    return pr_aucs\n",
    "\n",
    "def calc_pr_rec(data_real, data_fake, num_clusters=20, num_runs=10, NUM_RUNS=10):\n",
    "    precisions = []\n",
    "    recalls = []\n",
    "    for i in tqdm(range(NUM_RUNS)):\n",
    "        precision, recall = compute_prd_from_embedding(data_real, data_fake, num_clusters=num_clusters, num_runs=num_runs)\n",
    "        precisions.append(precision)\n",
    "        recalls.append(recall)\n",
    "    return precisions, recalls"
   ]
  },
  {
   "cell_type": "code",
   "execution_count": null,
   "metadata": {},
   "outputs": [],
   "source": [
    "precisions, recalls = calc_pr_rec(data_real, data_fake, num_clusters=100, num_runs=20)"
   ]
  },
  {
   "cell_type": "code",
   "execution_count": null,
   "metadata": {},
   "outputs": [],
   "source": [
    "pr_aucs = plot_pr_aucs(precisions, recalls)\n",
    "plt.title('Num_clusters={}, num_runs={}, first third'.format(100, 20))\n",
    "plt.show()"
   ]
  },
  {
   "cell_type": "code",
   "execution_count": null,
   "metadata": {},
   "outputs": [],
   "source": [
    "pr_aucs"
   ]
  },
  {
   "cell_type": "markdown",
   "metadata": {},
   "source": [
    "## Physical metrics"
   ]
  },
  {
   "cell_type": "code",
   "execution_count": null,
   "metadata": {},
   "outputs": [],
   "source": [
    "import matplotlib.lines as mlines\n",
    "def newline(p1, p2):\n",
    "    ax = plt.gca()\n",
    "    xmin, xmax = ax.get_xbound()\n",
    "\n",
    "    if(p2[0] == p1[0]):\n",
    "        xmin = xmax = p1[0]\n",
    "        ymin, ymax = ax.get_ybound()\n",
    "    else:\n",
    "        ymax = p1[1]+(p2[1]-p1[1])/(p2[0]-p1[0])*(xmax-p1[0])\n",
    "        ymin = p1[1]+(p2[1]-p1[1])/(p2[0]-p1[0])*(xmin-p1[0])\n",
    "\n",
    "    l = mlines.Line2D([xmin,xmax], [ymin,ymax])\n",
    "    ax.add_line(l)\n",
    "    return l\n",
    "\n",
    "def plot_axes_for_shower(ecal, point, p):\n",
    "    x = np.linspace(-14.5, 14.5, 30)\n",
    "    y = np.linspace(-14.5, 14.5, 30)\n",
    "\n",
    "    xx, yy = np.meshgrid(x, y)\n",
    "    zoff = 25.\n",
    "    ipic = 3\n",
    "    orth = np.array([-p[1], p[0]])\n",
    "\n",
    "    pref = point[:2] + p[:2] * zoff / p[2]\n",
    "\n",
    "    p1 = pref - 10 * p[:2]\n",
    "    p2 = pref + 10 * p[:2]\n",
    "    p3 = pref - 10 * orth\n",
    "    p4 = pref + 10 * orth\n",
    "\n",
    "    plt.contourf(xx, yy, np.log(ecal + 1), cmap=plt.cm.inferno)\n",
    "    newline(p1, p2)\n",
    "    newline(p3, p4)\n",
    "    plt.colorbar()"
   ]
  },
  {
   "cell_type": "code",
   "execution_count": null,
   "metadata": {},
   "outputs": [],
   "source": [
    "idx = 2\n",
    "plot_axes_for_shower(EnergyDeposit[idx], point=ParticlePoint[idx].detach().numpy(),\n",
    "                     p=ParticleMomentum[idx].detach().numpy())"
   ]
  },
  {
   "cell_type": "code",
   "execution_count": null,
   "metadata": {},
   "outputs": [],
   "source": [
    "from calogan_metrics import get_assymetry, get_shower_width, get_sparsity_level"
   ]
  },
  {
   "cell_type": "code",
   "execution_count": null,
   "metadata": {},
   "outputs": [],
   "source": [
    "assym = get_assymetry(EnergyDeposit, ParticleMomentum.detach().numpy(), ParticlePoint.detach().numpy(), orthog=False)\n",
    "assym_ortho = get_assymetry(EnergyDeposit, ParticleMomentum.detach().numpy(), ParticlePoint.detach().numpy(), orthog=True)\n",
    "sh_width = get_shower_width(EnergyDeposit, ParticleMomentum.detach().numpy(), ParticlePoint.detach().numpy(), orthog=False)\n",
    "sh_width_ortho = get_shower_width(EnergyDeposit, ParticleMomentum.detach().numpy(), ParticlePoint.detach().numpy(), orthog=True)\n",
    "sparsity_level = get_sparsity_level(EnergyDeposit)"
   ]
  },
  {
   "cell_type": "markdown",
   "metadata": {},
   "source": [
    "## Longitudual cluster asymmetry"
   ]
  },
  {
   "cell_type": "code",
   "execution_count": null,
   "metadata": {},
   "outputs": [],
   "source": [
    "sns.set(font_scale=2)\n",
    "plt.hist(assym, bins=50, range=[-1, 1], color='red', alpha=0.3, normed=True, label='MC');\n",
    "plt.xlabel('Longitudual cluster asymmetry')\n",
    "plt.legend(loc='best')"
   ]
  },
  {
   "cell_type": "markdown",
   "metadata": {},
   "source": [
    "## Transverse cluster asymmetry"
   ]
  },
  {
   "cell_type": "code",
   "execution_count": null,
   "metadata": {},
   "outputs": [],
   "source": [
    "sns.set(font_scale=2)\n",
    "plt.hist(assym_ortho, bins=50, range=[-1, 1], color='red', alpha=0.3, normed=True, label='MC');\n",
    "plt.xlabel('Transverse cluster asymmetry')\n",
    "plt.legend(loc='best')"
   ]
  },
  {
   "cell_type": "markdown",
   "metadata": {},
   "source": [
    "## Cluster longitudual width"
   ]
  },
  {
   "cell_type": "code",
   "execution_count": null,
   "metadata": {},
   "outputs": [],
   "source": [
    "plt.hist(sh_width, bins=50, range=[0, 15], normed=True, alpha=0.3, color='red', label='MC');\n",
    "plt.title('Shower longitudial width')\n",
    "plt.legend(loc='best')\n",
    "plt.xlabel('Cluster longitudual width [cm]')\n",
    "plt.ylabel('Arbitrary units')"
   ]
  },
  {
   "cell_type": "markdown",
   "metadata": {},
   "source": [
    "## Cluster trasverse width"
   ]
  },
  {
   "cell_type": "code",
   "execution_count": null,
   "metadata": {},
   "outputs": [],
   "source": [
    "plt.hist(sh_width_ortho, bins=50, range=[0,10], normed=True, alpha=0.3, color='blue', label='MC');\n",
    "#plt.title('Shower transverse width')\n",
    "plt.legend(loc='best')\n",
    "plt.xlabel('Cluster trasverse width [cm]')\n",
    "plt.ylabel('Arbitrary units')"
   ]
  },
  {
   "cell_type": "markdown",
   "metadata": {},
   "source": [
    "## Sparsity"
   ]
  },
  {
   "cell_type": "code",
   "execution_count": null,
   "metadata": {},
   "outputs": [],
   "source": [
    "alphas = np.log(np.logspace(-5, -1, 20))\n",
    "means_r = np.mean(sparsity_level, axis=1)\n",
    "stddev_r = np.std(sparsity_level, axis=1)"
   ]
  },
  {
   "cell_type": "code",
   "execution_count": null,
   "metadata": {},
   "outputs": [],
   "source": [
    "plt.plot(alphas, means_r, color='red')\n",
    "plt.fill_between(alphas, means_r-stddev_r, means_r+stddev_r, color='red', alpha=0.3)\n",
    "plt.legend(['MC'])\n",
    "plt.title('Sparsity')\n",
    "plt.xlabel('log10(Threshold/GeV)')\n",
    "plt.ylabel('Fraction of cells above threshold')"
   ]
  },
  {
   "cell_type": "code",
   "execution_count": null,
   "metadata": {},
   "outputs": [],
   "source": [
    "from calogan_metrics import get_physical_stats\n",
    "real_phys_stats = get_physical_stats(EnergyDeposit, ParticleMomentum.detach().numpy(), ParticlePoint.detach().numpy())\n",
    "gen_phys_stats = get_physical_stats(EnergyDeposit_gen, ParticleMomentum.detach().numpy(), ParticlePoint.detach().numpy())"
   ]
  },
  {
   "cell_type": "code",
   "execution_count": null,
   "metadata": {},
   "outputs": [],
   "source": [
    "precisions, recalls = calc_pr_rec(real_phys_stats, gen_phys_stats, num_clusters=100, num_runs=20)"
   ]
  },
  {
   "cell_type": "code",
   "execution_count": null,
   "metadata": {},
   "outputs": [],
   "source": [
    "pr_aucs = plot_pr_aucs(precisions, recalls)\n",
    "plt.title('Num_clusters={}, num_runs={}, first third'.format(100, 20))\n",
    "plt.show()"
   ]
  },
  {
   "cell_type": "code",
   "execution_count": null,
   "metadata": {},
   "outputs": [],
   "source": [
    "pr_aucs"
   ]
  }
 ],
 "metadata": {
  "kernelspec": {
   "display_name": "Python 3",
   "language": "python",
   "name": "python3"
  },
  "language_info": {
   "codemirror_mode": {
    "name": "ipython",
    "version": 3
   },
   "file_extension": ".py",
   "mimetype": "text/x-python",
   "name": "python",
   "nbconvert_exporter": "python",
   "pygments_lexer": "ipython3",
   "version": "3.6.8"
  }
 },
 "nbformat": 4,
 "nbformat_minor": 2
}
